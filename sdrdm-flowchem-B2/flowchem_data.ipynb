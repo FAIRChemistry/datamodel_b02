{
 "cells": [
  {
   "cell_type": "markdown",
   "id": "acddaf89-9232-4b08-92fc-a2a950b287a4",
   "metadata": {
    "tags": []
   },
   "source": [
    "## sdRDM for flow chemistry in CRC 1333\n",
    "- usage requieres a python 3.8 environment\n",
    "- import the necessary librarys\n",
    "- sdRDM: python -m pip install git+https://github.com/JR-1991/software-driven-rdm.git\n",
    "- - get infos about sdRDM at https://github.com/JR-1991/software-driven-rdm\n",
    "- typing: pip install typing"
   ]
  },
  {
   "cell_type": "code",
   "execution_count": 12,
   "id": "c3d2742f-c02f-48b5-b2ba-5a6fd6334774",
   "metadata": {},
   "outputs": [],
   "source": [
    "from sdRDM import DataModel, Field\n",
    "from typing import *\n",
    "\n",
    "from IPython.display import Image"
   ]
  },
  {
   "cell_type": "markdown",
   "id": "cdfc7573-f7c0-4886-b94b-5b6d435b8d55",
   "metadata": {},
   "source": [
    "## Example Repro software-driven-rdm\n",
    "https://github.com/JR-1991/software-driven-rdm/blob/master/README.md\n",
    "## Example Repro sdrdm-template\n",
    "https://github.com/JR-1991/sdrdm-template"
   ]
  },
  {
   "cell_type": "markdown",
   "id": "96b0427d-5e7f-48b2-96ec-90e04a3b41e8",
   "metadata": {},
   "source": [
    "## First proposal related to Flow Chemistry\n",
    "The example and ideas for data to be collected are taken from:<br>\n",
    "Hone C. A., Kappe C. O. Towards the Standardization of Flow Chemistry Protocols for Organic Reactions<br>\n",
    "https://chemistry-europe.onlinelibrary.wiley.com/doi/10.1002/cmtd.202100059<br>\n",
    "<br>\n",
    "![title](example_data/pics/process.png)\n",
    "<br>\n",
    "Scheme 1. Flow chemistry input parameters and responses. Input parameters are shown in blue and output parameters in red. One challenge of continuous processing is the mutual dependency that the input parameters have on each other and that small changes in the reactor setup can significantly impact the responses measured.(BPR=BackPressureRegulator)."
   ]
  },
  {
   "cell_type": "markdown",
   "id": "bd7bb744-49ba-45d0-ae8d-8719f01949fb",
   "metadata": {},
   "source": [
    "## Get the Datamodel from Github repository"
   ]
  },
  {
   "cell_type": "code",
   "execution_count": 3,
   "id": "fbd408ed-5e70-4f56-8916-7cd3e242f91d",
   "metadata": {},
   "outputs": [
    {
     "data": {
      "text/plain": [
       "<sdRDM.base.datamodel.DataModel._extract_modules.<locals>.ImportedModules at 0x7fc9d10a4bb0>"
      ]
     },
     "execution_count": 3,
     "metadata": {},
     "output_type": "execute_result"
    }
   ],
   "source": [
    "data_template_url = \"https://github.com/C-Kessler/sdrdm-flowchem-B2.git\"\n",
    "model = DataModel.from_git(\n",
    "    url= data_template_url,  \n",
    ")\n",
    "model"
   ]
  },
  {
   "cell_type": "markdown",
   "id": "b0ee353c-800c-4ed5-9abd-7048780f1cea",
   "metadata": {},
   "source": [
    "## Get an impression of what the model looks like\n",
    "The scheme can also be viewed at https://github.com/C-Kessler/sdrdm-flowchem-B2/blob/main/pyDataset/schemes/Dataset.md"
   ]
  },
  {
   "cell_type": "code",
   "execution_count": 4,
   "id": "03c90207-bc79-4e29-a675-2e5f6dbd43fa",
   "metadata": {},
   "outputs": [
    {
     "name": "stdout",
     "output_type": "stream",
     "text": [
      "FlowChemistryProtocol\n",
      "├── id\n",
      "├── description\n",
      "├── title\n",
      "├── subject\n",
      "├── authors\n",
      "│   └── Author\n",
      "│       ├── id\n",
      "│       ├── name\n",
      "│       └── affiliation\n",
      "├── flowmodules\n",
      "│   └── FlowModule\n",
      "│       ├── id\n",
      "│       ├── key\n",
      "│       ├── manufacturer\n",
      "│       ├── type_number\n",
      "│       ├── series\n",
      "│       ├── manual_link\n",
      "│       └── operation_mode\n",
      "├── reactionmodules\n",
      "│   └── ReactionModule\n",
      "│       ├── id\n",
      "│       ├── key\n",
      "│       ├── manufacturer\n",
      "│       ├── type_number\n",
      "│       ├── series\n",
      "│       ├── manual_link\n",
      "│       ├── operation_mode\n",
      "│       └── description\n",
      "├── analysismodules\n",
      "│   └── AnalysisModule\n",
      "│       ├── id\n",
      "│       ├── key\n",
      "│       ├── manufacturer\n",
      "│       ├── type_number\n",
      "│       ├── series\n",
      "│       ├── manual_link\n",
      "│       ├── operation_mode\n",
      "│       └── description\n",
      "└── capillaryconnections\n",
      "    └── CapillaryConnection\n",
      "        ├── id\n",
      "        ├── start\n",
      "        ├── end\n",
      "        ├── color\n",
      "        ├── material\n",
      "        ├── inner_diameter\n",
      "        ├── length\n",
      "        └── ID\n"
     ]
    }
   ],
   "source": [
    "Root = model.FlowChemistryProtocol\n",
    "Root.visualize_tree()"
   ]
  },
  {
   "cell_type": "markdown",
   "id": "d8c6030c-eb06-4e53-8096-77bfa23d5af0",
   "metadata": {},
   "source": [
    "## Initialize a Dataset for the specific flow chemistry process"
   ]
  },
  {
   "cell_type": "code",
   "execution_count": 5,
   "id": "49f473f9-56fd-49aa-8e19-431349caf479",
   "metadata": {},
   "outputs": [
    {
     "data": {
      "text/plain": [
       "FlowChemistryProtocol(id='flowchemistryprotocol0', description='An HPLC system from Agilent Technologies (Santa Clara, CA) was used for reaction control as well as for analysis.', title='Flowscheme first draft', subject='flowchem', authors=[], flowmodules=[], reactionmodules=[], analysismodules=[], capillaryconnections=[])"
      ]
     },
     "execution_count": 5,
     "metadata": {},
     "output_type": "execute_result"
    }
   ],
   "source": [
    "dataset = Root(title=\"Flowscheme first draft\", description=\n",
    "               \"An HPLC system from Agilent Technologies (Santa Clara, CA) was used for reaction control as well as for analysis.\", \n",
    "               subject = 'flowchem')\n",
    "dataset"
   ]
  },
  {
   "cell_type": "markdown",
   "id": "e7bf82d3-bd60-423d-bcb3-bfc03fe3f554",
   "metadata": {},
   "source": [
    "## Enter Data"
   ]
  },
  {
   "cell_type": "code",
   "execution_count": 6,
   "id": "3eadd161-ed55-4700-971e-cc9ac54c878e",
   "metadata": {},
   "outputs": [],
   "source": [
    "# Authors\n",
    "dataset.add_to_authors(name=\"Tallarek, U.\", affiliation=\"University of Marburg\")\n",
    "\n",
    "dataset.add_to_authors(name=\"Böth, J.-A.\", affiliation=\"University of Marburg\")"
   ]
  },
  {
   "cell_type": "code",
   "execution_count": 7,
   "id": "5536f85f-f008-41a4-b834-92c20b02326e",
   "metadata": {},
   "outputs": [],
   "source": [
    "# Modules\n",
    "# ReactionModules\n",
    "dataset.add_to_reactionmodules(id='1', key = 'Substrate solutions', manufacturer = '')\n",
    "\n",
    "dataset.add_to_reactionmodules(id='4', key = 'Binary Pump for reaction control', manufacturer = 'Agilent', series = '1290 Infinity II Series',type_number='G7120A', \n",
    "                               operation_mode='35 uL')\n",
    "\n",
    "dataset.add_to_reactionmodules(id='5', key = '2-position/6-port-valve', manufacturer = 'Agilent', series = '1290 Infinity II Series', type_number = 'G1170A', \n",
    "                               manual_link='./example_data/manuals_pdf/G1170-Valve-Drive-Heads-en-UseMa-SD-29000412.pdf' )\n",
    "\n",
    "dataset.add_to_reactionmodules(id='9', key = 'Thermostatted HPLC column compartment with the microreactor', manufacturer = 'Agilent', series = '1290 Infinity II Series', type_number = 'G7116B',\n",
    "                              manual_link = './example_data/manuals_pdf/customer_1290_ii_mct_datasheet_5991-5337en.pdf')\n",
    "\n",
    "dataset.add_to_reactionmodules(id='10', key = 'Inline DAD', manufacturer = 'Agilent', series = '1290 Infinity II Series', type_number = 'G7115A',\n",
    "                              manual_link = './example_data/manuals_pdf/InfinityLab_LC_Series_Compendium.pdf')"
   ]
  },
  {
   "cell_type": "code",
   "execution_count": 8,
   "id": "d6e461dd-9dc1-41c8-b677-a0584ab84866",
   "metadata": {},
   "outputs": [],
   "source": [
    "#AnalysisModules\n",
    "dataset.add_to_analysismodules(id='2', key = 'Autosampler', manufacturer = 'Agilent', series = '1290 Infinity II Series', type_number = 'G7129B',\n",
    "                              description=\"The Autosampler was used for calibrations. A calibration standard was injected with different injection volumes. The resulting peaks were assigned a concentration/amount of substance.\",\n",
    "                              manual_link = './example_data/manuals_pdf/G4226-90001_ALS-A_USR_EN.pdf')\n",
    "\n",
    "dataset.add_to_analysismodules(id='3', key = 'Quaternary pump for analytics', manufacturer = 'Agilent', series = '1290 Infinity II Series', type_number = 'G7104A',\n",
    "                              manual_link = './example_data/manuals_pdf/G4204A_QuatPump_USR_EN.pdf')\n",
    "\n",
    "dataset.add_to_analysismodules(id='6', key = 'Eluents', manufacturer = '')\n",
    "\n",
    "dataset.add_to_analysismodules(id='7', key = 'Online DAD', manufacturer = 'Agilent', series = '1290 Infinity II Series', type_number = 'G7115A',\n",
    "                              manual_link = './example_data/manuals_pdf/InfinityLab_LC_Series_Compendium.pdf')\n",
    "\n",
    "dataset.add_to_analysismodules(id='8', key = 'Thermostatted HPLC column compartment with C-8-column', manufacturer = 'Agilent', series = '1290 Infinity II Series', type_number = 'G7116B', \n",
    "                              manual_link = './example_data/manuals_pdf/customer_1290_ii_mct_datasheet_5991-5337en.pdf')\n",
    "\n",
    "dataset.add_to_analysismodules(id='11', key = 'Fraction collector', manufacturer = 'Agilent', series = '1290 Infinity II Series', type_number = 'G1364E')\n",
    "\n",
    "dataset.add_to_analysismodules(id='12', key = 'ESI-MS', manufacturer = 'Agilent', series = '1290 Infinity II Series', type_number = 'G6150B')"
   ]
  },
  {
   "cell_type": "code",
   "execution_count": 9,
   "id": "d9999aba-af2a-42f4-9a7a-492acd0de1f4",
   "metadata": {},
   "outputs": [],
   "source": [
    "dataset.add_to_capillaryconnections(start='4', end = '9', inner_diameter = 0.17, length= 800, ID= '01049-87302', color = 'green', material = 'stainless steel')\n",
    "\n",
    "dataset.add_to_capillaryconnections(start='9', end= '10', inner_diameter = 0.17, length= 230, ID= '5067-1570', color = 'green', material = 'stainless steel')\n",
    "\n",
    "dataset.add_to_capillaryconnections(start='10', end= '5', inner_diameter = 0.17, length= 800, ID= '01049-87302', color = 'green', material = 'stainless steel')\n",
    "\n",
    "dataset.add_to_capillaryconnections(start='3', end= '5', inner_diameter = 0.17, length= 800, ID= '01049-87302', color = 'green', material = 'stainless steel')\n",
    "\n",
    "dataset.add_to_capillaryconnections(start='5', end= '8', inner_diameter = 0.17, length= 230, ID= '5067-1570', color = 'green', material = 'stainless steel')\n",
    "\n",
    "dataset.add_to_capillaryconnections(start='8', end= '7', inner_diameter = 0.17, length= 320, ID= '5067-1570', color = 'green', material = 'stainless steel')"
   ]
  },
  {
   "cell_type": "code",
   "execution_count": 10,
   "id": "b970fa3a-db8f-4a7d-a17d-f98616794945",
   "metadata": {},
   "outputs": [
    {
     "name": "stdout",
     "output_type": "stream",
     "text": [
      "id='flowchemistryprotocol0' description='An HPLC system from Agilent Technologies (Santa Clara, CA) was used for reaction control as well as for analysis.' title='Flowscheme first draft' subject='flowchem' authors=[Author(id='author0', name='Tallarek, U.', affiliation='University of Marburg'), Author(id='author1', name='Böth, J.-A.', affiliation='University of Marburg')] flowmodules=[] reactionmodules=[ReactionModule(id='1', key='Substrate solutions', manufacturer='', type_number=None, series=None, manual_link=None, operation_mode=None, description=None), ReactionModule(id='4', key='Binary Pump for reaction control', manufacturer='Agilent', type_number='G7120A', series='1290 Infinity II Series', manual_link=None, operation_mode='35 uL', description=None), ReactionModule(id='5', key='2-position/6-port-valve', manufacturer='Agilent', type_number='G1170A', series='1290 Infinity II Series', manual_link='./example_data/manuals_pdf/G1170-Valve-Drive-Heads-en-UseMa-SD-29000412.pdf', operation_mode=None, description=None), ReactionModule(id='9', key='Thermostatted HPLC column compartment with the microreactor', manufacturer='Agilent', type_number='G7116B', series='1290 Infinity II Series', manual_link='./example_data/manuals_pdf/customer_1290_ii_mct_datasheet_5991-5337en.pdf', operation_mode=None, description=None), ReactionModule(id='10', key='Inline DAD', manufacturer='Agilent', type_number='G7115A', series='1290 Infinity II Series', manual_link='./example_data/manuals_pdf/InfinityLab_LC_Series_Compendium.pdf', operation_mode=None, description=None)] analysismodules=[AnalysisModule(id='2', key='Autosampler', manufacturer='Agilent', type_number='G7129B', series='1290 Infinity II Series', manual_link='./example_data/manuals_pdf/G4226-90001_ALS-A_USR_EN.pdf', operation_mode=None, description='The Autosampler was used for calibrations. A calibration standard was injected with different injection volumes. The resulting peaks were assigned a concentration/amount of substance.'), AnalysisModule(id='3', key='Quaternary pump for analytics', manufacturer='Agilent', type_number='G7104A', series='1290 Infinity II Series', manual_link='./example_data/manuals_pdf/G4204A_QuatPump_USR_EN.pdf', operation_mode=None, description=None), AnalysisModule(id='6', key='Eluents', manufacturer='', type_number=None, series=None, manual_link=None, operation_mode=None, description=None), AnalysisModule(id='7', key='Online DAD', manufacturer='Agilent', type_number='G7115A', series='1290 Infinity II Series', manual_link='./example_data/manuals_pdf/InfinityLab_LC_Series_Compendium.pdf', operation_mode=None, description=None), AnalysisModule(id='8', key='Thermostatted HPLC column compartment with C-8-column', manufacturer='Agilent', type_number='G7116B', series='1290 Infinity II Series', manual_link='./example_data/manuals_pdf/customer_1290_ii_mct_datasheet_5991-5337en.pdf', operation_mode=None, description=None), AnalysisModule(id='11', key='Fraction collector', manufacturer='Agilent', type_number='G1364E', series='1290 Infinity II Series', manual_link=None, operation_mode=None, description=None), AnalysisModule(id='12', key='ESI-MS', manufacturer='Agilent', type_number='G6150B', series='1290 Infinity II Series', manual_link=None, operation_mode=None, description=None)] capillaryconnections=[CapillaryConnection(id='capillaryconnection0', start='4', end='9', color='green', material='stainless steel', inner_diameter=0.17, length=800.0, ID='01049-87302'), CapillaryConnection(id='capillaryconnection1', start='9', end='10', color='green', material='stainless steel', inner_diameter=0.17, length=230.0, ID='5067-1570'), CapillaryConnection(id='capillaryconnection2', start='10', end='5', color='green', material='stainless steel', inner_diameter=0.17, length=800.0, ID='01049-87302'), CapillaryConnection(id='capillaryconnection3', start='3', end='5', color='green', material='stainless steel', inner_diameter=0.17, length=800.0, ID='01049-87302'), CapillaryConnection(id='capillaryconnection4', start='5', end='8', color='green', material='stainless steel', inner_diameter=0.17, length=230.0, ID='5067-1570'), CapillaryConnection(id='capillaryconnection5', start='8', end='7', color='green', material='stainless steel', inner_diameter=0.17, length=320.0, ID='5067-1570')]\n"
     ]
    }
   ],
   "source": [
    "print(dataset)"
   ]
  },
  {
   "cell_type": "markdown",
   "id": "7d7f5ffd-0277-4a4e-8780-67644b0f8aaf",
   "metadata": {},
   "source": [
    "## Export the dataset\n",
    "- json\n",
    "- todo DaRUS"
   ]
  },
  {
   "cell_type": "code",
   "execution_count": 11,
   "id": "e3a2ac46-96f4-4dca-b2ff-27c0097c09a3",
   "metadata": {},
   "outputs": [],
   "source": [
    "with open(\"./output/my_dataset.json\", \"w\") as f:\n",
    "    f.write(dataset.json())"
   ]
  },
  {
   "cell_type": "code",
   "execution_count": null,
   "id": "ac11fe47-e953-4610-9efd-fdb252707893",
   "metadata": {},
   "outputs": [],
   "source": []
  }
 ],
 "metadata": {
  "kernelspec": {
   "display_name": "Python 3",
   "language": "python",
   "name": "python3"
  },
  "language_info": {
   "codemirror_mode": {
    "name": "ipython",
    "version": 3
   },
   "file_extension": ".py",
   "mimetype": "text/x-python",
   "name": "python",
   "nbconvert_exporter": "python",
   "pygments_lexer": "ipython3",
   "version": "3.8.13"
  }
 },
 "nbformat": 4,
 "nbformat_minor": 5
}
